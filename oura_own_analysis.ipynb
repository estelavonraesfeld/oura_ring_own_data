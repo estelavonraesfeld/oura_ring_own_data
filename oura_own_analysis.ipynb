{
 "cells": [
  {
   "cell_type": "code",
   "execution_count": 1,
   "id": "5af64129-aae6-4932-a12a-41d737f0a673",
   "metadata": {},
   "outputs": [
    {
     "ename": "ModuleNotFoundError",
     "evalue": "No module named 'pandas'",
     "output_type": "error",
     "traceback": [
      "\u001b[0;31m---------------------------------------------------------------------------\u001b[0m",
      "\u001b[0;31mModuleNotFoundError\u001b[0m                       Traceback (most recent call last)",
      "\u001b[1;32m/Users/estelavonraesfeldfabre/oura _analisis/oura_own_analysis.ipynb Cell 1\u001b[0m line \u001b[0;36m1\n\u001b[0;32m----> <a href='vscode-notebook-cell:/Users/estelavonraesfeldfabre/oura%20_analisis/oura_own_analysis.ipynb#W0sZmlsZQ%3D%3D?line=0'>1</a>\u001b[0m \u001b[39mimport\u001b[39;00m \u001b[39mpandas\u001b[39;00m \u001b[39mas\u001b[39;00m \u001b[39mpd\u001b[39;00m \n\u001b[1;32m      <a href='vscode-notebook-cell:/Users/estelavonraesfeldfabre/oura%20_analisis/oura_own_analysis.ipynb#W0sZmlsZQ%3D%3D?line=1'>2</a>\u001b[0m \u001b[39mimport\u001b[39;00m \u001b[39mmatplotlib\u001b[39;00m\u001b[39m.\u001b[39;00m\u001b[39mpyplot\u001b[39;00m \u001b[39mas\u001b[39;00m \u001b[39mplt\u001b[39;00m \n\u001b[1;32m      <a href='vscode-notebook-cell:/Users/estelavonraesfeldfabre/oura%20_analisis/oura_own_analysis.ipynb#W0sZmlsZQ%3D%3D?line=2'>3</a>\u001b[0m \u001b[39mimport\u001b[39;00m \u001b[39mseaborn\u001b[39;00m \u001b[39mas\u001b[39;00m \u001b[39msns\u001b[39;00m\n",
      "\u001b[0;31mModuleNotFoundError\u001b[0m: No module named 'pandas'"
     ]
    }
   ],
   "source": [
    "import pandas as pd \n",
    "import matplotlib.pyplot as plt \n",
    "import seaborn as sns\n",
    "\n",
    "sns.set(style=\"whitegrid\", palette=\"muted\")"
   ]
  },
  {
   "cell_type": "code",
   "execution_count": null,
   "id": "36199a03-ddb5-4f47-b6dc-03a0c1d7d0a5",
   "metadata": {},
   "outputs": [
    {
     "ename": "FileNotFoundError",
     "evalue": "[Errno 2] No such file or directory: 'daily-activity.csv'",
     "output_type": "error",
     "traceback": [
      "\u001b[0;31m---------------------------------------------------------------------------\u001b[0m",
      "\u001b[0;31mFileNotFoundError\u001b[0m                         Traceback (most recent call last)",
      "Cell \u001b[0;32mIn[11], line 1\u001b[0m\n\u001b[0;32m----> 1\u001b[0m activity \u001b[38;5;241m=\u001b[39m pd\u001b[38;5;241m.\u001b[39mread_csv(\u001b[38;5;124m'\u001b[39m\u001b[38;5;124mdaily-activity.csv\u001b[39m\u001b[38;5;124m'\u001b[39m)\n\u001b[1;32m      2\u001b[0m sleep \u001b[38;5;241m=\u001b[39m pd\u001b[38;5;241m.\u001b[39mread_csv(\u001b[38;5;124m'\u001b[39m\u001b[38;5;124mdaily-sleep.csv\u001b[39m\u001b[38;5;124m'\u001b[39m)\n\u001b[1;32m      3\u001b[0m readiness \u001b[38;5;241m=\u001b[39m pd\u001b[38;5;241m.\u001b[39mread_csv(\u001b[38;5;124m'\u001b[39m\u001b[38;5;124mdaily-readiness.csv\u001b[39m\u001b[38;5;124m'\u001b[39m)\n",
      "File \u001b[0;32m/opt/anaconda3/lib/python3.12/site-packages/pandas/io/parsers/readers.py:1026\u001b[0m, in \u001b[0;36mread_csv\u001b[0;34m(filepath_or_buffer, sep, delimiter, header, names, index_col, usecols, dtype, engine, converters, true_values, false_values, skipinitialspace, skiprows, skipfooter, nrows, na_values, keep_default_na, na_filter, verbose, skip_blank_lines, parse_dates, infer_datetime_format, keep_date_col, date_parser, date_format, dayfirst, cache_dates, iterator, chunksize, compression, thousands, decimal, lineterminator, quotechar, quoting, doublequote, escapechar, comment, encoding, encoding_errors, dialect, on_bad_lines, delim_whitespace, low_memory, memory_map, float_precision, storage_options, dtype_backend)\u001b[0m\n\u001b[1;32m   1013\u001b[0m kwds_defaults \u001b[38;5;241m=\u001b[39m _refine_defaults_read(\n\u001b[1;32m   1014\u001b[0m     dialect,\n\u001b[1;32m   1015\u001b[0m     delimiter,\n\u001b[0;32m   (...)\u001b[0m\n\u001b[1;32m   1022\u001b[0m     dtype_backend\u001b[38;5;241m=\u001b[39mdtype_backend,\n\u001b[1;32m   1023\u001b[0m )\n\u001b[1;32m   1024\u001b[0m kwds\u001b[38;5;241m.\u001b[39mupdate(kwds_defaults)\n\u001b[0;32m-> 1026\u001b[0m \u001b[38;5;28;01mreturn\u001b[39;00m _read(filepath_or_buffer, kwds)\n",
      "File \u001b[0;32m/opt/anaconda3/lib/python3.12/site-packages/pandas/io/parsers/readers.py:620\u001b[0m, in \u001b[0;36m_read\u001b[0;34m(filepath_or_buffer, kwds)\u001b[0m\n\u001b[1;32m    617\u001b[0m _validate_names(kwds\u001b[38;5;241m.\u001b[39mget(\u001b[38;5;124m\"\u001b[39m\u001b[38;5;124mnames\u001b[39m\u001b[38;5;124m\"\u001b[39m, \u001b[38;5;28;01mNone\u001b[39;00m))\n\u001b[1;32m    619\u001b[0m \u001b[38;5;66;03m# Create the parser.\u001b[39;00m\n\u001b[0;32m--> 620\u001b[0m parser \u001b[38;5;241m=\u001b[39m TextFileReader(filepath_or_buffer, \u001b[38;5;241m*\u001b[39m\u001b[38;5;241m*\u001b[39mkwds)\n\u001b[1;32m    622\u001b[0m \u001b[38;5;28;01mif\u001b[39;00m chunksize \u001b[38;5;129;01mor\u001b[39;00m iterator:\n\u001b[1;32m    623\u001b[0m     \u001b[38;5;28;01mreturn\u001b[39;00m parser\n",
      "File \u001b[0;32m/opt/anaconda3/lib/python3.12/site-packages/pandas/io/parsers/readers.py:1620\u001b[0m, in \u001b[0;36mTextFileReader.__init__\u001b[0;34m(self, f, engine, **kwds)\u001b[0m\n\u001b[1;32m   1617\u001b[0m     \u001b[38;5;28mself\u001b[39m\u001b[38;5;241m.\u001b[39moptions[\u001b[38;5;124m\"\u001b[39m\u001b[38;5;124mhas_index_names\u001b[39m\u001b[38;5;124m\"\u001b[39m] \u001b[38;5;241m=\u001b[39m kwds[\u001b[38;5;124m\"\u001b[39m\u001b[38;5;124mhas_index_names\u001b[39m\u001b[38;5;124m\"\u001b[39m]\n\u001b[1;32m   1619\u001b[0m \u001b[38;5;28mself\u001b[39m\u001b[38;5;241m.\u001b[39mhandles: IOHandles \u001b[38;5;241m|\u001b[39m \u001b[38;5;28;01mNone\u001b[39;00m \u001b[38;5;241m=\u001b[39m \u001b[38;5;28;01mNone\u001b[39;00m\n\u001b[0;32m-> 1620\u001b[0m \u001b[38;5;28mself\u001b[39m\u001b[38;5;241m.\u001b[39m_engine \u001b[38;5;241m=\u001b[39m \u001b[38;5;28mself\u001b[39m\u001b[38;5;241m.\u001b[39m_make_engine(f, \u001b[38;5;28mself\u001b[39m\u001b[38;5;241m.\u001b[39mengine)\n",
      "File \u001b[0;32m/opt/anaconda3/lib/python3.12/site-packages/pandas/io/parsers/readers.py:1880\u001b[0m, in \u001b[0;36mTextFileReader._make_engine\u001b[0;34m(self, f, engine)\u001b[0m\n\u001b[1;32m   1878\u001b[0m     \u001b[38;5;28;01mif\u001b[39;00m \u001b[38;5;124m\"\u001b[39m\u001b[38;5;124mb\u001b[39m\u001b[38;5;124m\"\u001b[39m \u001b[38;5;129;01mnot\u001b[39;00m \u001b[38;5;129;01min\u001b[39;00m mode:\n\u001b[1;32m   1879\u001b[0m         mode \u001b[38;5;241m+\u001b[39m\u001b[38;5;241m=\u001b[39m \u001b[38;5;124m\"\u001b[39m\u001b[38;5;124mb\u001b[39m\u001b[38;5;124m\"\u001b[39m\n\u001b[0;32m-> 1880\u001b[0m \u001b[38;5;28mself\u001b[39m\u001b[38;5;241m.\u001b[39mhandles \u001b[38;5;241m=\u001b[39m get_handle(\n\u001b[1;32m   1881\u001b[0m     f,\n\u001b[1;32m   1882\u001b[0m     mode,\n\u001b[1;32m   1883\u001b[0m     encoding\u001b[38;5;241m=\u001b[39m\u001b[38;5;28mself\u001b[39m\u001b[38;5;241m.\u001b[39moptions\u001b[38;5;241m.\u001b[39mget(\u001b[38;5;124m\"\u001b[39m\u001b[38;5;124mencoding\u001b[39m\u001b[38;5;124m\"\u001b[39m, \u001b[38;5;28;01mNone\u001b[39;00m),\n\u001b[1;32m   1884\u001b[0m     compression\u001b[38;5;241m=\u001b[39m\u001b[38;5;28mself\u001b[39m\u001b[38;5;241m.\u001b[39moptions\u001b[38;5;241m.\u001b[39mget(\u001b[38;5;124m\"\u001b[39m\u001b[38;5;124mcompression\u001b[39m\u001b[38;5;124m\"\u001b[39m, \u001b[38;5;28;01mNone\u001b[39;00m),\n\u001b[1;32m   1885\u001b[0m     memory_map\u001b[38;5;241m=\u001b[39m\u001b[38;5;28mself\u001b[39m\u001b[38;5;241m.\u001b[39moptions\u001b[38;5;241m.\u001b[39mget(\u001b[38;5;124m\"\u001b[39m\u001b[38;5;124mmemory_map\u001b[39m\u001b[38;5;124m\"\u001b[39m, \u001b[38;5;28;01mFalse\u001b[39;00m),\n\u001b[1;32m   1886\u001b[0m     is_text\u001b[38;5;241m=\u001b[39mis_text,\n\u001b[1;32m   1887\u001b[0m     errors\u001b[38;5;241m=\u001b[39m\u001b[38;5;28mself\u001b[39m\u001b[38;5;241m.\u001b[39moptions\u001b[38;5;241m.\u001b[39mget(\u001b[38;5;124m\"\u001b[39m\u001b[38;5;124mencoding_errors\u001b[39m\u001b[38;5;124m\"\u001b[39m, \u001b[38;5;124m\"\u001b[39m\u001b[38;5;124mstrict\u001b[39m\u001b[38;5;124m\"\u001b[39m),\n\u001b[1;32m   1888\u001b[0m     storage_options\u001b[38;5;241m=\u001b[39m\u001b[38;5;28mself\u001b[39m\u001b[38;5;241m.\u001b[39moptions\u001b[38;5;241m.\u001b[39mget(\u001b[38;5;124m\"\u001b[39m\u001b[38;5;124mstorage_options\u001b[39m\u001b[38;5;124m\"\u001b[39m, \u001b[38;5;28;01mNone\u001b[39;00m),\n\u001b[1;32m   1889\u001b[0m )\n\u001b[1;32m   1890\u001b[0m \u001b[38;5;28;01massert\u001b[39;00m \u001b[38;5;28mself\u001b[39m\u001b[38;5;241m.\u001b[39mhandles \u001b[38;5;129;01mis\u001b[39;00m \u001b[38;5;129;01mnot\u001b[39;00m \u001b[38;5;28;01mNone\u001b[39;00m\n\u001b[1;32m   1891\u001b[0m f \u001b[38;5;241m=\u001b[39m \u001b[38;5;28mself\u001b[39m\u001b[38;5;241m.\u001b[39mhandles\u001b[38;5;241m.\u001b[39mhandle\n",
      "File \u001b[0;32m/opt/anaconda3/lib/python3.12/site-packages/pandas/io/common.py:873\u001b[0m, in \u001b[0;36mget_handle\u001b[0;34m(path_or_buf, mode, encoding, compression, memory_map, is_text, errors, storage_options)\u001b[0m\n\u001b[1;32m    868\u001b[0m \u001b[38;5;28;01melif\u001b[39;00m \u001b[38;5;28misinstance\u001b[39m(handle, \u001b[38;5;28mstr\u001b[39m):\n\u001b[1;32m    869\u001b[0m     \u001b[38;5;66;03m# Check whether the filename is to be opened in binary mode.\u001b[39;00m\n\u001b[1;32m    870\u001b[0m     \u001b[38;5;66;03m# Binary mode does not support 'encoding' and 'newline'.\u001b[39;00m\n\u001b[1;32m    871\u001b[0m     \u001b[38;5;28;01mif\u001b[39;00m ioargs\u001b[38;5;241m.\u001b[39mencoding \u001b[38;5;129;01mand\u001b[39;00m \u001b[38;5;124m\"\u001b[39m\u001b[38;5;124mb\u001b[39m\u001b[38;5;124m\"\u001b[39m \u001b[38;5;129;01mnot\u001b[39;00m \u001b[38;5;129;01min\u001b[39;00m ioargs\u001b[38;5;241m.\u001b[39mmode:\n\u001b[1;32m    872\u001b[0m         \u001b[38;5;66;03m# Encoding\u001b[39;00m\n\u001b[0;32m--> 873\u001b[0m         handle \u001b[38;5;241m=\u001b[39m \u001b[38;5;28mopen\u001b[39m(\n\u001b[1;32m    874\u001b[0m             handle,\n\u001b[1;32m    875\u001b[0m             ioargs\u001b[38;5;241m.\u001b[39mmode,\n\u001b[1;32m    876\u001b[0m             encoding\u001b[38;5;241m=\u001b[39mioargs\u001b[38;5;241m.\u001b[39mencoding,\n\u001b[1;32m    877\u001b[0m             errors\u001b[38;5;241m=\u001b[39merrors,\n\u001b[1;32m    878\u001b[0m             newline\u001b[38;5;241m=\u001b[39m\u001b[38;5;124m\"\u001b[39m\u001b[38;5;124m\"\u001b[39m,\n\u001b[1;32m    879\u001b[0m         )\n\u001b[1;32m    880\u001b[0m     \u001b[38;5;28;01melse\u001b[39;00m:\n\u001b[1;32m    881\u001b[0m         \u001b[38;5;66;03m# Binary mode\u001b[39;00m\n\u001b[1;32m    882\u001b[0m         handle \u001b[38;5;241m=\u001b[39m \u001b[38;5;28mopen\u001b[39m(handle, ioargs\u001b[38;5;241m.\u001b[39mmode)\n",
      "\u001b[0;31mFileNotFoundError\u001b[0m: [Errno 2] No such file or directory: 'daily-activity.csv'"
     ]
    }
   ],
   "source": [
    "activity = pd.read_csv('daily-activity.csv')\n",
    "sleep = pd.read_csv('daily-sleep.csv')\n",
    "readiness = pd.read_csv('daily-readiness.csv')"
   ]
  },
  {
   "cell_type": "code",
   "execution_count": null,
   "id": "3451970e-3b8f-484b-a996-35e62d8373b4",
   "metadata": {},
   "outputs": [],
   "source": [
    "#activity['date'] = pd.to_datetime(activity['date'])\n",
    "#sleep['date'] = pd.to_datetime(sleep['date'])\n",
    "#readiness['date'] = pd.to_datetime(readiness['date']"
   ]
  },
  {
   "cell_type": "code",
   "execution_count": null,
   "id": "8d8908e3-38ee-43e6-8cb1-d39013714f4b",
   "metadata": {},
   "outputs": [],
   "source": [
    "# === Readiness ===\n",
    "\n",
    "readiness['date'] = pd.to_datetime(readiness['day'])\n",
    "readiness = readiness.rename(columns={\n",
    "    'score': 'readiness_score',\n",
    "    'contributors_resting_heart_rate': 'resting_heart_rate',\n",
    "    'contributors_hrv_balance': 'hrv'\n",
    "})\n",
    "readiness_shifted = readiness[['date', 'readiness_score', 'hrv', 'resting_heart_rate']].copy()\n",
    "readiness_shifted['date'] = readiness_shifted['date'] - pd.Timedelta(days=1)\n",
    "\n",
    "# === Sleep ===\n",
    "\n",
    "sleep['date'] = pd.to_datetime(sleep['day'])\n",
    "sleep = sleep.rename(columns={\n",
    "    'score': 'sleep_score',\n",
    "    'contributors_total_sleep': 'total_sleep'\n",
    "})\n",
    "sleep_shifted = sleep[['date', 'sleep_score', 'total_sleep']].copy()\n",
    "sleep_shifted['date'] = sleep_shifted['date'] - pd.Timedelta(days=1)\n",
    "\n",
    "# === Activity ===\n",
    "\n",
    "activity['date'] = pd.to_datetime(activity['day'])\n",
    "\n",
    "# Renombrar columnas si deseas hacerlas más legibles\n",
    "activity = activity.rename(columns={\n",
    "    'score': 'activity_score',\n",
    "    'cal_total': 'total_calories',\n",
    "    'steps': 'steps'\n",
    "})\n",
    "\n",
    "# Seleccionar columnas de interés\n",
    "activity_shifted = activity[['date', 'activity_score', 'total_calories', 'steps']].copy()\n",
    "\n",
    "# Desplazar un día si quieres alinear con readiness del día siguiente\n",
    "activity_shifted['date'] = activity_shifted['date'] + pd.Timedelta(days=1)\n",
    "\n",
    "\n"
   ]
  },
  {
   "cell_type": "code",
   "execution_count": null,
   "id": "a1e522eb-8ff8-475f-9236-d9a8a0b531ae",
   "metadata": {},
   "outputs": [],
   "source": [
    "# Unir todo por fecha\n",
    "df = readiness_shifted.merge(sleep_shifted, on='date').merge(activity_shifted, on='date')"
   ]
  },
  {
   "cell_type": "code",
   "execution_count": null,
   "id": "d1dd7f5f-39cf-461f-9146-7e837f7ad0d8",
   "metadata": {},
   "outputs": [],
   "source": [
    "\n",
    "\n",
    "# Correlación entre actividad y sueño\n",
    "corr = df[['steps', 'total_calories', 'activity_score', 'total_sleep', 'sleep_score']].corr()\n",
    "\n",
    "plt.figure(figsize=(8, 6))\n",
    "sns.heatmap(corr, annot=True, cmap='coolwarm')\n",
    "plt.title('Correlaciones entre Actividad y Sueño')\n",
    "plt.show()"
   ]
  },
  {
   "cell_type": "code",
   "execution_count": null,
   "id": "7a2f546b-aab6-469e-9ad2-3f3e833efd93",
   "metadata": {},
   "outputs": [],
   "source": [
    "sns.lmplot(data=df, x='steps', y='total_sleep', height=5, aspect=1.5)\n",
    "plt.title('Relación entre pasos y sueño total')\n",
    "plt.xlabel('Pasos')\n",
    "plt.ylabel('Sueño total (segundos)')\n",
    "plt.show()"
   ]
  },
  {
   "cell_type": "markdown",
   "id": "c09c2942-cdb3-462e-a01f-1dec28aa9f9f",
   "metadata": {},
   "source": [
    "más pasos mejor sueño?"
   ]
  },
  {
   "cell_type": "code",
   "execution_count": null,
   "id": "c01492ca-e439-4aae-b588-25c4f7bf4d48",
   "metadata": {},
   "outputs": [],
   "source": [
    "sns.lmplot(data=df, x='steps', y='total_sleep', height=5, aspect=1.5)\n",
    "plt.title('Relación entre pasos y sueño total')\n",
    "plt.xlabel('Pasos')\n",
    "plt.ylabel('Sueño total (segundos)')\n",
    "plt.show()"
   ]
  },
  {
   "cell_type": "markdown",
   "id": "fc9e7ae6-fa99-4cdf-a75a-bc0a0e291b59",
   "metadata": {},
   "source": [
    "la actividad mejora el puntaje de sueño?"
   ]
  },
  {
   "cell_type": "code",
   "execution_count": null,
   "id": "5fc8b71c-18d2-4413-922a-226b7bbcc8f3",
   "metadata": {},
   "outputs": [],
   "source": [
    "sns.lmplot(data=df, x='activity_score', y='sleep_score', height=5, aspect=1.5)\n",
    "plt.title('Actividad vs. Calidad del Sueño')\n",
    "plt.xlabel('Actividad (score)')\n",
    "plt.ylabel('Puntaje de sueño')\n",
    "plt.show()"
   ]
  },
  {
   "cell_type": "markdown",
   "id": "ee72ec3b-5575-49c9-bc00-819bd5b683b2",
   "metadata": {},
   "source": [
    "clasificar los días según actividad "
   ]
  },
  {
   "cell_type": "code",
   "execution_count": null,
   "id": "b629e49c-c82c-4eb1-ae01-fab4902c7477",
   "metadata": {},
   "outputs": [],
   "source": [
    "# Calcular mediana de pasos\n",
    "pasos_median = df['steps'].median()\n",
    "\n",
    "# Crear columna de grupo de actividad\n",
    "df['actividad'] = df['steps'].apply(lambda x: 'alta' if x >= pasos_median else 'baja')"
   ]
  },
  {
   "cell_type": "markdown",
   "id": "29ff9ac5-f8b9-4343-b7f3-46cb8e98b2b5",
   "metadata": {},
   "source": [
    "comparar promedio de sueño por grupo "
   ]
  },
  {
   "cell_type": "code",
   "execution_count": null,
   "id": "672538b4-26eb-4753-b3e3-dbe735af20b6",
   "metadata": {},
   "outputs": [],
   "source": [
    "# Agrupar por nivel de actividad y calcular medias\n",
    "promedios = df.groupby('actividad')[['total_sleep', 'sleep_score']].mean()\n",
    "print(promedios)"
   ]
  },
  {
   "cell_type": "markdown",
   "id": "5ba6b871-0c1d-4ed3-807e-4f49de88d0a3",
   "metadata": {},
   "source": [
    "visualizar con barras "
   ]
  },
  {
   "cell_type": "code",
   "execution_count": null,
   "id": "e5cd5904-d8aa-4c93-988f-4a5f741340d4",
   "metadata": {},
   "outputs": [],
   "source": [
    "# Visualización\n",
    "promedios.plot(kind='bar', figsize=(8, 5), color=['skyblue', 'orange'])\n",
    "plt.title('Sueño según nivel de actividad')\n",
    "plt.ylabel('Promedio')\n",
    "plt.xticks(rotation=0)\n",
    "plt.legend(['Sueño total (s)', 'Sleep score'])\n",
    "plt.tight_layout()\n",
    "plt.show()"
   ]
  }
 ],
 "metadata": {
  "kernelspec": {
   "display_name": "Python 3 (ipykernel)",
   "language": "python",
   "name": "python3"
  },
  "language_info": {
   "codemirror_mode": {
    "name": "ipython",
    "version": 3
   },
   "file_extension": ".py",
   "mimetype": "text/x-python",
   "name": "python",
   "nbconvert_exporter": "python",
   "pygments_lexer": "ipython3",
   "version": "3.9.6"
  }
 },
 "nbformat": 4,
 "nbformat_minor": 5
}
